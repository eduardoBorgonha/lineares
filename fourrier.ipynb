{
 "cells": [
  {
   "cell_type": "markdown",
   "id": "65cff91f",
   "metadata": {},
   "source": [
    "# Análise de Sinais no Domínio da Frequência\n",
    "\n",
    "Notebook para estudar Transformada de Fourrier e análise de sinais no domínio da frequência, para complementar o estudo da disciplina de Sistemas Lineares.\n",
    " "
   ]
  },
  {
   "cell_type": "code",
   "execution_count": null,
   "id": "1f19225e",
   "metadata": {
    "vscode": {
     "languageId": "markdown"
    }
   },
   "outputs": [],
   "source": [
    "import numpy as np\n",
    "import matplotlib.pyplot as plt\n",
    "from scipy.fft import fft, fftfreq, fftshift\n",
    "from scipy import signal as sgn\n",
    "import ipywidgets as widgets\n",
    "from IPython.display import display"
   ]
  },
  {
   "cell_type": "markdown",
   "id": "c1dfa57b",
   "metadata": {},
   "source": [
    "### Definição do sinal no domínio do tempo:"
   ]
  },
  {
   "cell_type": "code",
   "execution_count": 30,
   "id": "eaa43834",
   "metadata": {
    "vscode": {
     "languageId": "markdown"
    }
   },
   "outputs": [
    {
     "data": {
      "application/vnd.jupyter.widget-view+json": {
       "model_id": "ce68254dfe4843b68b2fb66fab34eca8",
       "version_major": 2,
       "version_minor": 0
      },
      "text/plain": [
       "interactive(children=(Dropdown(description='Sinal:', options=('Retangular', 'Sinc', 'Triangular', 'Senoide'), …"
      ]
     },
     "metadata": {},
     "output_type": "display_data"
    },
    {
     "data": {
      "text/plain": [
       "<function __main__.plot_signal(signal_type)>"
      ]
     },
     "execution_count": 30,
     "metadata": {},
     "output_type": "execute_result"
    }
   ],
   "source": [
    "def retangular(t):\n",
    "    return np.where(np.abs(t) < 0.2, 1, 0)\n",
    "\n",
    "def sinc(t):\n",
    "    return np.sinc(5 * t)\n",
    "\n",
    "def triangular(t):\n",
    "    return sgn.sawtooth(2 * np.pi * 5 * t, width=0.5)\n",
    "\n",
    "def senoide(t):\n",
    "    return np.sin(2 * np.pi * 5 * t)\n",
    "\n",
    "def plot_signal(signal_type):\n",
    "    t = np.linspace(-1, 1, 2000)\n",
    "    if signal_type == 'Retangular':\n",
    "        x = retangular(t)\n",
    "    elif signal_type == 'Sinc':\n",
    "        x = sinc(t)\n",
    "    elif signal_type == 'Triangular':\n",
    "        x = triangular(t)\n",
    "    elif signal_type == 'Senoide':\n",
    "        x = senoide(t)\n",
    "    else:\n",
    "        x = np.zeros_like(t)\n",
    "    plt.figure(figsize=(8, 4))\n",
    "    plt.plot(t, x)\n",
    "    plt.title(f'Sinal no Tempo: {signal_type}')\n",
    "    plt.xlabel('Tempo [s]')\n",
    "    plt.ylabel('Amplitude')\n",
    "    plt.grid(True)\n",
    "    plt.show()\n",
    "\n",
    "signal_selector = widgets.Dropdown(\n",
    "    options=['Retangular', 'Sinc', 'Triangular', 'Senoide'],\n",
    "    value='Retangular',\n",
    "    description='Sinal:',\n",
    ")\n",
    "widgets.interact(plot_signal, signal_type=signal_selector)"
   ]
  },
  {
   "cell_type": "markdown",
   "id": "e00ec7ae",
   "metadata": {},
   "source": [
    "### Representação do sinal do domínio da frequência:"
   ]
  },
  {
   "cell_type": "code",
   "execution_count": null,
   "id": "eefd7d59",
   "metadata": {
    "vscode": {
     "languageId": "markdown"
    }
   },
   "outputs": [
    {
     "data": {
      "application/vnd.jupyter.widget-view+json": {
       "model_id": "d1004e880e7948e593e8e421fadc1c69",
       "version_major": 2,
       "version_minor": 0
      },
      "text/plain": [
       "interactive(children=(Dropdown(description='Sinal:', options=('Retangular', 'Sinc', 'Triangular', 'Senoide'), …"
      ]
     },
     "metadata": {},
     "output_type": "display_data"
    },
    {
     "data": {
      "text/plain": [
       "<function __main__.plot_fourier(signal_type)>"
      ]
     },
     "execution_count": 32,
     "metadata": {},
     "output_type": "execute_result"
    }
   ],
   "source": [
    "def plot_fourier(signal_type):\n",
    "    t = np.linspace(-1, 1, 2000)\n",
    "    if signal_type == 'Retangular':\n",
    "        x = retangular(t)\n",
    "    elif signal_type == 'Sinc':\n",
    "        x = sinc(t)\n",
    "    elif signal_type == 'Triangular':\n",
    "        x = triangular(t)\n",
    "    elif signal_type == 'Senoide':\n",
    "        x = senoide(t)\n",
    "    else:\n",
    "        x = np.zeros_like(t)\n",
    "    X = fftshift(fft(x))\n",
    "    freqs = fftshift(fftfreq(len(t), t[1] - t[0]))\n",
    "    plt.figure(figsize=(8, 4))\n",
    "    plt.plot(freqs, np.abs(X))\n",
    "    plt.title(f'Magnitude da FT: {signal_type}')\n",
    "    plt.xlabel('Frequência [Hz]')\n",
    "    plt.ylabel('|X(f)|')\n",
    "    plt.grid(True)\n",
    "    plt.xlim(-50, 50)  # Limita o eixo de frequência\n",
    "    plt.show()\n",
    "\n",
    "widgets.interact(plot_fourier, signal_type=signal_selector)"
   ]
  }
 ],
 "metadata": {
  "kernelspec": {
   "display_name": "Python 3",
   "language": "python",
   "name": "python3"
  },
  "language_info": {
   "codemirror_mode": {
    "name": "ipython",
    "version": 3
   },
   "file_extension": ".py",
   "mimetype": "text/x-python",
   "name": "python",
   "nbconvert_exporter": "python",
   "pygments_lexer": "ipython3",
   "version": "3.11.4"
  }
 },
 "nbformat": 4,
 "nbformat_minor": 5
}
